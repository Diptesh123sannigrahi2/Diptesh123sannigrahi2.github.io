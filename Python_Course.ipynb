{
  "nbformat": 4,
  "nbformat_minor": 0,
  "metadata": {
    "colab": {
      "name": "Python_Course.ipynb",
      "provenance": [],
      "collapsed_sections": [],
      "authorship_tag": "ABX9TyPRlDxj75d//eutsJwK0gD9",
      "include_colab_link": true
    },
    "kernelspec": {
      "name": "python3",
      "display_name": "Python 3"
    },
    "language_info": {
      "name": "python"
    }
  },
  "cells": [
    {
      "cell_type": "markdown",
      "metadata": {
        "id": "view-in-github",
        "colab_type": "text"
      },
      "source": [
        "<a href=\"https://colab.research.google.com/github/Diptesh123sannigrahi2/Diptesh123sannigrahi2.github.io/blob/main/Python_Course.ipynb\" target=\"_parent\"><img src=\"https://colab.research.google.com/assets/colab-badge.svg\" alt=\"Open In Colab\"/></a>"
      ]
    },
    {
      "cell_type": "code",
      "execution_count": 1,
      "metadata": {
        "colab": {
          "base_uri": "https://localhost:8080/",
          "height": 0
        },
        "id": "r6OPMeJSa8B3",
        "outputId": "4dd09aa9-6544-4dfa-a32d-220effac2e29"
      },
      "outputs": [
        {
          "output_type": "stream",
          "name": "stdout",
          "text": [
            "20\n"
          ]
        }
      ],
      "source": [
        "age = 20\n",
        "print(age)"
      ]
    },
    {
      "cell_type": "code",
      "source": [
        "price=19.95\n",
        "print(price)\n",
        "type(price)"
      ],
      "metadata": {
        "colab": {
          "base_uri": "https://localhost:8080/",
          "height": 0
        },
        "id": "n0FLC871bMAq",
        "outputId": "6c15e992-2bea-420d-f043-6469ca6c25e1"
      },
      "execution_count": 6,
      "outputs": [
        {
          "output_type": "stream",
          "name": "stdout",
          "text": [
            "19.95\n"
          ]
        },
        {
          "output_type": "execute_result",
          "data": {
            "text/plain": [
              "float"
            ]
          },
          "metadata": {},
          "execution_count": 6
        }
      ]
    },
    {
      "cell_type": "code",
      "source": [
        "name=input(\"What is your name? \")\n",
        "print(\"Hello sir \"+name)"
      ],
      "metadata": {
        "colab": {
          "base_uri": "https://localhost:8080/",
          "height": 0
        },
        "id": "3O5oNJnybl8a",
        "outputId": "30b0f7c7-b972-40dd-8289-c553b38f1a56"
      },
      "execution_count": 9,
      "outputs": [
        {
          "output_type": "stream",
          "name": "stdout",
          "text": [
            "What is your name? Diptesh\n",
            "Hello sir Diptesh\n"
          ]
        }
      ]
    },
    {
      "cell_type": "code",
      "source": [
        "dob = input(\"Enter yout birth year? \")\n",
        "age = 2022-int(dob)\n",
        "print(age)"
      ],
      "metadata": {
        "colab": {
          "base_uri": "https://localhost:8080/",
          "height": 0
        },
        "id": "64VTP363cMl1",
        "outputId": "c88c6720-5e6f-4e90-9e6e-494233afa16c"
      },
      "execution_count": 14,
      "outputs": [
        {
          "output_type": "stream",
          "name": "stdout",
          "text": [
            "Enter yout birth year? 2001\n",
            "21\n"
          ]
        }
      ]
    },
    {
      "cell_type": "markdown",
      "source": [
        "float() --> for tranforming to float\n",
        "\n",
        "bool() --> to bool type\n",
        "\n",
        "str() --> to string"
      ],
      "metadata": {
        "id": "b6r8MF-7c9fc"
      }
    },
    {
      "cell_type": "code",
      "source": [
        "first = input(\"First: \")\n",
        "second = input(\"Second: \")\n",
        "print(int(first)+int(second));"
      ],
      "metadata": {
        "colab": {
          "base_uri": "https://localhost:8080/",
          "height": 0
        },
        "id": "_7DJ7AcKdGc0",
        "outputId": "d55f8fb4-6eb8-40db-e617-f0fe7d7a8a42"
      },
      "execution_count": 15,
      "outputs": [
        {
          "output_type": "stream",
          "name": "stdout",
          "text": [
            "First: 10\n",
            "Second: 30\n",
            "40\n"
          ]
        }
      ]
    },
    {
      "cell_type": "markdown",
      "source": [
        "Pyhon cannot concatinate float with a str"
      ],
      "metadata": {
        "id": "8zVDnU9bd3DZ"
      }
    },
    {
      "cell_type": "code",
      "source": [
        "course = 'Pyhon for Beginers'\n",
        "print(course.upper())\n",
        "print(course.find('y'))\n",
        "print(course.capitalize())\n",
        "print(course.encode())\n",
        "print(course.replace('for','4'))"
      ],
      "metadata": {
        "colab": {
          "base_uri": "https://localhost:8080/",
          "height": 0
        },
        "id": "MzKNBsePdZEC",
        "outputId": "cefbeeb4-2864-4b96-c635-6123a8943ddd"
      },
      "execution_count": 21,
      "outputs": [
        {
          "output_type": "stream",
          "name": "stdout",
          "text": [
            "PYHON FOR BEGINERS\n",
            "1\n",
            "Pyhon for beginers\n",
            "b'Pyhon for Beginers'\n",
            "Pyhon 4 Beginers\n"
          ]
        }
      ]
    },
    {
      "cell_type": "markdown",
      "source": [
        "Strings are un-mutable in python. So every method we use returns a completely new string."
      ],
      "metadata": {
        "id": "guBFSgEifFC9"
      }
    },
    {
      "cell_type": "code",
      "source": [
        "course = 'Python for Beginers'\n",
        "print('Python' in course)"
      ],
      "metadata": {
        "colab": {
          "base_uri": "https://localhost:8080/",
          "height": 0
        },
        "id": "Que8FyiufNqH",
        "outputId": "62f6d504-0526-4eb7-cf3b-41cdd6b97a7e"
      },
      "execution_count": 22,
      "outputs": [
        {
          "output_type": "stream",
          "name": "stdout",
          "text": [
            "True\n"
          ]
        }
      ]
    },
    {
      "cell_type": "code",
      "source": [
        "print(10/3)\n",
        "print(10//3)\n",
        "print(10%3)"
      ],
      "metadata": {
        "colab": {
          "base_uri": "https://localhost:8080/",
          "height": 0
        },
        "id": "DGKuvwD2fZA2",
        "outputId": "dd3f14b4-ada3-43f8-a7e1-b06252ad9b75"
      },
      "execution_count": 23,
      "outputs": [
        {
          "output_type": "stream",
          "name": "stdout",
          "text": [
            "3.3333333333333335\n",
            "3\n",
            "1\n"
          ]
        }
      ]
    },
    {
      "cell_type": "code",
      "source": [
        "print(10*3)  #normal multiplaction\n",
        "print(10**3) #to the power"
      ],
      "metadata": {
        "colab": {
          "base_uri": "https://localhost:8080/",
          "height": 0
        },
        "id": "sqS4K_LGfo9y",
        "outputId": "ecd787b7-4c0f-48af-9819-e7a5d006690d"
      },
      "execution_count": 24,
      "outputs": [
        {
          "output_type": "stream",
          "name": "stdout",
          "text": [
            "30\n",
            "1000\n"
          ]
        }
      ]
    },
    {
      "cell_type": "code",
      "source": [
        "x = 10 + 3 * 2\n",
        "print(x)"
      ],
      "metadata": {
        "colab": {
          "base_uri": "https://localhost:8080/",
          "height": 0
        },
        "id": "tqnTs_7xfvMN",
        "outputId": "b5b3b3f7-3bf3-4a39-c4be-2bb3e2504280"
      },
      "execution_count": 26,
      "outputs": [
        {
          "output_type": "stream",
          "name": "stdout",
          "text": [
            "16\n"
          ]
        }
      ]
    },
    {
      "cell_type": "markdown",
      "source": [
        "*,/ > +,- ---> operator precidence"
      ],
      "metadata": {
        "id": "fuYXGly_gEKC"
      }
    },
    {
      "cell_type": "code",
      "source": [
        "x = 3<2\n",
        "print(x)"
      ],
      "metadata": {
        "colab": {
          "base_uri": "https://localhost:8080/",
          "height": 0
        },
        "id": "6NNbT-7TgNlC",
        "outputId": "a1fe4fac-7125-45e2-9ee0-bef170eaaf2b"
      },
      "execution_count": 30,
      "outputs": [
        {
          "output_type": "stream",
          "name": "stdout",
          "text": [
            "False\n"
          ]
        }
      ]
    },
    {
      "cell_type": "code",
      "source": [
        "x = 3==3\n",
        "print(x)"
      ],
      "metadata": {
        "colab": {
          "base_uri": "https://localhost:8080/",
          "height": 0
        },
        "id": "qrIeSXIygWIm",
        "outputId": "3e2e56aa-fa2f-4dbf-8970-3ea68eb0dbed"
      },
      "execution_count": 31,
      "outputs": [
        {
          "output_type": "stream",
          "name": "stdout",
          "text": [
            "True\n"
          ]
        }
      ]
    },
    {
      "cell_type": "code",
      "source": [
        "price = 25\n",
        "print(price>10 and price<=30) # and operator"
      ],
      "metadata": {
        "colab": {
          "base_uri": "https://localhost:8080/",
          "height": 0
        },
        "id": "cJTZQbP5gdEA",
        "outputId": "b63188bc-8d74-4bdd-d32e-2be91778785c"
      },
      "execution_count": 32,
      "outputs": [
        {
          "output_type": "stream",
          "name": "stdout",
          "text": [
            "True\n"
          ]
        }
      ]
    },
    {
      "cell_type": "code",
      "source": [
        "price = 5\n",
        "print(price>10 or price<=30) # or operator"
      ],
      "metadata": {
        "colab": {
          "base_uri": "https://localhost:8080/",
          "height": 0
        },
        "id": "DK_1GCc8gz1l",
        "outputId": "8e58ec09-fcca-460a-a60e-2a988661ee80"
      },
      "execution_count": 34,
      "outputs": [
        {
          "output_type": "stream",
          "name": "stdout",
          "text": [
            "True\n"
          ]
        }
      ]
    },
    {
      "cell_type": "code",
      "source": [
        "price = 5\n",
        "print(not price>10) # not operator"
      ],
      "metadata": {
        "colab": {
          "base_uri": "https://localhost:8080/",
          "height": 0
        },
        "id": "6USYI-sGg71J",
        "outputId": "cb6d46a1-db1f-4154-f9cc-654c3ae017de"
      },
      "execution_count": 35,
      "outputs": [
        {
          "output_type": "stream",
          "name": "stdout",
          "text": [
            "True\n"
          ]
        }
      ]
    },
    {
      "cell_type": "code",
      "source": [
        "temp = int(input('Temp of your room: '))\n",
        "\n",
        "if temp<=20:\n",
        "  print('Cold temp!')\n",
        "elif temp<=30 and temp>20:\n",
        "  print('Normal temp!')\n",
        "elif temp>30 and temp<=40:\n",
        "  print('Indian temp!')\n",
        "else:\n",
        "  print('Very High temp!')\n"
      ],
      "metadata": {
        "colab": {
          "base_uri": "https://localhost:8080/",
          "height": 0
        },
        "id": "e-jU4tvthK6b",
        "outputId": "cacaaf53-b263-4c70-f6a4-2b9e58f2e1f8"
      },
      "execution_count": 37,
      "outputs": [
        {
          "output_type": "stream",
          "name": "stdout",
          "text": [
            "Temp of your room: 40\n",
            "Indian temp!\n"
          ]
        }
      ]
    },
    {
      "cell_type": "code",
      "source": [
        "i = 1\n",
        "while i<=5:\n",
        "  print(i)\n",
        "  i+=1"
      ],
      "metadata": {
        "colab": {
          "base_uri": "https://localhost:8080/",
          "height": 0
        },
        "id": "G1R6tvUAinS-",
        "outputId": "05c1373c-2333-461f-f45b-332fe9b16e8d"
      },
      "execution_count": 40,
      "outputs": [
        {
          "output_type": "stream",
          "name": "stdout",
          "text": [
            "1\n",
            "2\n",
            "3\n",
            "4\n",
            "5\n"
          ]
        }
      ]
    },
    {
      "cell_type": "code",
      "source": [
        "i = 1\n",
        "while i<=5:\n",
        "  print(i * '*')\n",
        "  i+=1"
      ],
      "metadata": {
        "colab": {
          "base_uri": "https://localhost:8080/",
          "height": 0
        },
        "id": "R_tjaFWTjALo",
        "outputId": "4cddfbff-2aa0-4850-cf2c-18175575802f"
      },
      "execution_count": 42,
      "outputs": [
        {
          "output_type": "stream",
          "name": "stdout",
          "text": [
            "*\n",
            "**\n",
            "***\n",
            "****\n",
            "*****\n"
          ]
        }
      ]
    },
    {
      "cell_type": "markdown",
      "source": [
        "List in Python"
      ],
      "metadata": {
        "id": "8345wK8olprl"
      }
    },
    {
      "cell_type": "code",
      "source": [
        "names = [\"John\",\"Bob\",\"Mosh\",\"Sam\",\"Mary\"]\n",
        "names.append(\"Diptesh\") #add an element in the end of the list\n",
        "names.pop() # remove the last element from the list\n",
        "names.remove(\"John\") # remove the specified element from the list\n",
        "names.insert(0,\"Atanu\") # insert an element at the very specified position\n",
        "n = len(names)\n",
        "print(n)\n",
        "print(names[0]) #first element of the list\n",
        "print(names[-1]) #last element of the list\n",
        "print(names[:3]) #printing the first 3 elements\n",
        "print(names[-2:]) #printing last 2 elements of the list  \n",
        "print(names)"
      ],
      "metadata": {
        "colab": {
          "base_uri": "https://localhost:8080/",
          "height": 0
        },
        "id": "WAcUGIvRktum",
        "outputId": "af5a58e8-9eda-450c-a10e-231a98abc1cb"
      },
      "execution_count": 72,
      "outputs": [
        {
          "output_type": "stream",
          "name": "stdout",
          "text": [
            "5\n",
            "Atanu\n",
            "Mary\n",
            "['Atanu', 'Bob', 'Mosh']\n",
            "['Sam', 'Mary']\n",
            "['Atanu', 'Bob', 'Mosh', 'Sam', 'Mary']\n"
          ]
        }
      ]
    },
    {
      "cell_type": "code",
      "source": [
        "numbers = [1,3,4,5,6]\n",
        "for item in numbers:\n",
        "  print(item)"
      ],
      "metadata": {
        "colab": {
          "base_uri": "https://localhost:8080/",
          "height": 0
        },
        "id": "SpoXUkuhloOb",
        "outputId": "97be6c93-d803-4a90-9429-8d91ab1ed66d"
      },
      "execution_count": 73,
      "outputs": [
        {
          "output_type": "stream",
          "name": "stdout",
          "text": [
            "1\n",
            "3\n",
            "4\n",
            "5\n",
            "6\n"
          ]
        }
      ]
    },
    {
      "cell_type": "markdown",
      "source": [
        "The __init__() function is called automatically every time the class is being used to create a new object."
      ],
      "metadata": {
        "id": "iCtrQYTKpiYf"
      }
    },
    {
      "cell_type": "code",
      "source": [
        "class name:\n",
        "  def __init__(self,name,age):\n",
        "    self.name = name\n",
        "    self.age = age\n",
        "  def print(self):      \n",
        "    print('Hello my name is '+self.name)\n",
        "\n",
        "suv = name('Subhankar',21)\n",
        "suv.print()\n",
        "print(suv.age)\n",
        "del suv.age #to delete age parameter from class name\n",
        "del suv #to delete objects "
      ],
      "metadata": {
        "colab": {
          "base_uri": "https://localhost:8080/",
          "height": 0
        },
        "id": "EEaN8zekoD7i",
        "outputId": "91d51d26-5d4b-49fe-a20f-e53375b6e970"
      },
      "execution_count": 3,
      "outputs": [
        {
          "output_type": "stream",
          "name": "stdout",
          "text": [
            "Hello my name is Subhankar\n",
            "21\n"
          ]
        }
      ]
    },
    {
      "cell_type": "markdown",
      "source": [
        "The self parameter is a reference to the current instance of the class, and is used to access variables that belongs to the class.\n",
        "\n",
        "It does not have to be named self, you can call it whatever you like, but it has to be the first parameter of any function in the class."
      ],
      "metadata": {
        "id": "lXCjaH-Q76-Y"
      }
    },
    {
      "cell_type": "code",
      "source": [
        "class Person:   \n",
        "  pass  "
      ],
      "metadata": {
        "id": "k9EKlUqs807J"
      },
      "execution_count": 4,
      "outputs": []
    },
    {
      "cell_type": "markdown",
      "source": [
        "class definitions cannot be empty, but if you for some reason have a class definition with no content, put in the pass statement to avoid getting an error."
      ],
      "metadata": {
        "id": "V_KRB0RV9FVR"
      }
    },
    {
      "cell_type": "code",
      "source": [
        "class Person:\n",
        "  def __init__(self,fname,lname):\n",
        "    self.fname = fname\n",
        "    self.lname = lname\n",
        "  def printname(self):\n",
        "    print(self.fname,self.lname)\n",
        "x = Person(\"Abhisek\",\"Kumar\")\n",
        "x.printname()"
      ],
      "metadata": {
        "colab": {
          "base_uri": "https://localhost:8080/",
          "height": 0
        },
        "id": "kNkXlAc-8Vu0",
        "outputId": "52646073-5788-4b07-80bf-a508c1549626"
      },
      "execution_count": 5,
      "outputs": [
        {
          "output_type": "stream",
          "name": "stdout",
          "text": [
            "Abhisek Kumar\n"
          ]
        }
      ]
    },
    {
      "cell_type": "code",
      "source": [
        "class Student(Person):  #Create a class named Stident, which will inherit the properties and methods from the person class\n",
        "  pass\n",
        "\n",
        "y = Student(\"Subhankar\",\"Dey\")\n",
        "y.printname()"
      ],
      "metadata": {
        "colab": {
          "base_uri": "https://localhost:8080/",
          "height": 0
        },
        "id": "8tmOlShv-jU9",
        "outputId": "5bc223bd-2464-4ea0-b383-89bad6b57536"
      },
      "execution_count": 8,
      "outputs": [
        {
          "output_type": "stream",
          "name": "stdout",
          "text": [
            "Subhankar Dey\n"
          ]
        }
      ]
    },
    {
      "cell_type": "markdown",
      "source": [
        "Python File Open\n",
        "\n",
        "1. \"r\" ---> read ---> opens a file for reading,error if the file does not exist.\n",
        "2. \"a\" ---> append --> opens a file for appending, creates the file if it does not exist.\n",
        "3. \"w\" ---> write ---> opens file for writing, creats the file if it does not exist\n",
        "4. \"x\" ---> create ---> creats the specified file, returns an error if the file exists\n",
        "\n",
        "In addition you can specify if the file should be handled as binary or text method\n",
        "\n",
        "i. \"t\" ---> Text ---> Default value. Text Method\n",
        "\n",
        "ii. \"b\" ---> Binary ---> Binary mode (e.g. images)"
      ],
      "metadata": {
        "id": "j9kV6uyL_Vbd"
      }
    },
    {
      "cell_type": "code",
      "source": [
        "# write file\n",
        "f = open(\"Test.txt\",\"w\")\n",
        "f.write(\"Woops! I will be great\")\n",
        "f.close()\n",
        "\n",
        "#open and read the file after the appending\n",
        "f = open(\"Test.txt\",\"r\")\n",
        "print(f.read())"
      ],
      "metadata": {
        "colab": {
          "base_uri": "https://localhost:8080/",
          "height": 0
        },
        "id": "YEeuhoVICedt",
        "outputId": "e38f52b3-fd34-45f1-e747-72789f328677"
      },
      "execution_count": 23,
      "outputs": [
        {
          "output_type": "stream",
          "name": "stdout",
          "text": [
            "Woops! I will be great\n"
          ]
        }
      ]
    },
    {
      "cell_type": "code",
      "source": [
        "# append file\n",
        "f = open(\"Test.txt\",\"a\")\n",
        "f.write(\" because i am diptesh!\")\n",
        "f.close()\n",
        "\n",
        "f = open(\"Test.txt\",\"r\")\n",
        "print(f.read())\n",
        "f.close()"
      ],
      "metadata": {
        "colab": {
          "base_uri": "https://localhost:8080/"
        },
        "id": "hCFWHc9QDGrr",
        "outputId": "81490cca-c813-4f19-9e43-8e96debf1102"
      },
      "execution_count": 24,
      "outputs": [
        {
          "output_type": "stream",
          "name": "stdout",
          "text": [
            "Woops! I will be great because i am diptesh!\n"
          ]
        }
      ]
    },
    {
      "cell_type": "code",
      "source": [
        "# create file\n",
        "f = open(\"myFile.txt\",\"x\")"
      ],
      "metadata": {
        "id": "l27nW2yeDr58"
      },
      "execution_count": 25,
      "outputs": []
    },
    {
      "cell_type": "code",
      "source": [
        "p = open(\"MyFile.txt\",\"w\")\n",
        "p.write(\"I am diptesh and i gonna be stronger!\")\n",
        "p.close()\n",
        "\n",
        "n = open(\"MyFile.txt\",\"r\")\n",
        "print(n.read())"
      ],
      "metadata": {
        "colab": {
          "base_uri": "https://localhost:8080/"
        },
        "id": "oLc0O2V2DzRb",
        "outputId": "26573027-ef29-43bb-c594-f9b8dffa19a7"
      },
      "execution_count": 26,
      "outputs": [
        {
          "output_type": "stream",
          "name": "stdout",
          "text": [
            "I am diptesh and i gonna be stronger!\n"
          ]
        }
      ]
    },
    {
      "cell_type": "code",
      "source": [
        "# deleting a file\n",
        "import os\n",
        "if os.path.exists(\"MyFile.txt\"):\n",
        "  os.remove(\"MyFile.txt\")\n",
        "else:\n",
        "  print(\"The file does not exist!\")"
      ],
      "metadata": {
        "colab": {
          "base_uri": "https://localhost:8080/"
        },
        "id": "ltRSBzhRENQA",
        "outputId": "33772be6-9cba-437f-83a8-04f11e7f8169"
      },
      "execution_count": 31,
      "outputs": [
        {
          "output_type": "stream",
          "name": "stdout",
          "text": [
            "The file does not exist!\n"
          ]
        }
      ]
    },
    {
      "cell_type": "code",
      "source": [
        "# deleting folder\n",
        "import os\n",
        "os.rmdir(\"Text\")"
      ],
      "metadata": {
        "id": "eSeHX5dRFGLU"
      },
      "execution_count": 30,
      "outputs": []
    },
    {
      "cell_type": "markdown",
      "source": [
        "***Why NumPy Faster than Lists ?***\n",
        "\n",
        "NumPy arrays are stored at one continues place in memory unlike lists, so precesses can access and manipulate them very efficiently.\n",
        "\n",
        "The behavior is called locality of reference in computer science.\n",
        "\n",
        "This is the main reason why NumPy is faster than lists. Also it is optimized to work with latest CPU architectures."
      ],
      "metadata": {
        "id": "t74TFtZeGsNw"
      }
    },
    {
      "cell_type": "code",
      "source": [
        "import numpy as np\n",
        "arr = np.array([1,2,3,4,5,6,7])\n",
        "print(arr[4:])\n",
        "print(arr[:4])"
      ],
      "metadata": {
        "colab": {
          "base_uri": "https://localhost:8080/"
        },
        "id": "2-zeA9msIIfq",
        "outputId": "e5218fc6-e10c-4475-fcaa-6b7cc3869a50"
      },
      "execution_count": 32,
      "outputs": [
        {
          "output_type": "stream",
          "name": "stdout",
          "text": [
            "[5 6 7]\n",
            "[1 2 3 4]\n"
          ]
        }
      ]
    },
    {
      "cell_type": "code",
      "source": [
        "# 'step' value to determine the step of the slicing\n",
        "import numpy as np\n",
        "arr = np.array([1,2,3,4,5,6,7])\n",
        "print(arr[1:7:2])"
      ],
      "metadata": {
        "colab": {
          "base_uri": "https://localhost:8080/"
        },
        "id": "E9jty0mRIXIZ",
        "outputId": "3bf24a64-3d09-431f-94a6-2d156fa5c9bb"
      },
      "execution_count": 34,
      "outputs": [
        {
          "output_type": "stream",
          "name": "stdout",
          "text": [
            "[2 4 6]\n"
          ]
        }
      ]
    },
    {
      "cell_type": "code",
      "source": [
        "import numpy as np\n",
        "arr = np.array([[1,2,3,4,5],[6,7,8,9,10]])\n",
        "print(arr[0, ::4]) \n",
        "print(arr[0, :4])"
      ],
      "metadata": {
        "colab": {
          "base_uri": "https://localhost:8080/"
        },
        "id": "Ucej6-V_IrN7",
        "outputId": "48a0b5cd-aa84-4b3c-db99-2ea03faafd8f"
      },
      "execution_count": 38,
      "outputs": [
        {
          "output_type": "stream",
          "name": "stdout",
          "text": [
            "[1 5]\n",
            "[1 2 3 4]\n"
          ]
        }
      ]
    },
    {
      "cell_type": "code",
      "source": [
        "import numpy as np\n",
        "arr = np.array([[1,2,3,4,5],[6,7,8,9,10]])\n",
        "print(arr[0:2,::4])"
      ],
      "metadata": {
        "colab": {
          "base_uri": "https://localhost:8080/"
        },
        "id": "SUoBeUTlJIfb",
        "outputId": "20c13558-28e8-4b8c-d74a-ed4d7e64cb92"
      },
      "execution_count": 40,
      "outputs": [
        {
          "output_type": "stream",
          "name": "stdout",
          "text": [
            "[[ 1  5]\n",
            " [ 6 10]]\n"
          ]
        }
      ]
    },
    {
      "cell_type": "markdown",
      "source": [
        "NumPy has some extra data types, and refer to data types with one character, like i for integers, u for unsigned integers etc.\n",
        "\n",
        "i - integer\n",
        "\n",
        "b - boolean\n",
        "\n",
        "u - unsigned integer\n",
        "\n",
        "f - float\n",
        "\n",
        "c - complex float\n",
        "\n",
        "m - timedelta\n",
        "\n",
        "M - datetime\n",
        "\n",
        "O - object\n",
        "\n",
        "S - string\n",
        "\n",
        "U - unicode string\n",
        "\n",
        "V - fixed chunk of memory for other type ( void )\n"
      ],
      "metadata": {
        "id": "gwexRBoBKnCu"
      }
    },
    {
      "cell_type": "code",
      "source": [
        "import numpy as np\n",
        "arr = np.array(['a','2','3'],dtype='i')\n",
        "# A non integer string like 'a' can not be converted to integer"
      ],
      "metadata": {
        "colab": {
          "base_uri": "https://localhost:8080/",
          "height": 200
        },
        "id": "x7NcXH_mKhwK",
        "outputId": "387decff-bfcf-4914-b264-53457c8222a5"
      },
      "execution_count": 46,
      "outputs": [
        {
          "output_type": "error",
          "ename": "ValueError",
          "evalue": "ignored",
          "traceback": [
            "\u001b[0;31m---------------------------------------------------------------------------\u001b[0m",
            "\u001b[0;31mValueError\u001b[0m                                Traceback (most recent call last)",
            "\u001b[0;32m<ipython-input-46-d458084180ba>\u001b[0m in \u001b[0;36m<module>\u001b[0;34m()\u001b[0m\n\u001b[1;32m      1\u001b[0m \u001b[0;32mimport\u001b[0m \u001b[0mnumpy\u001b[0m \u001b[0;32mas\u001b[0m \u001b[0mnp\u001b[0m\u001b[0;34m\u001b[0m\u001b[0;34m\u001b[0m\u001b[0m\n\u001b[0;32m----> 2\u001b[0;31m \u001b[0marr\u001b[0m \u001b[0;34m=\u001b[0m \u001b[0mnp\u001b[0m\u001b[0;34m.\u001b[0m\u001b[0marray\u001b[0m\u001b[0;34m(\u001b[0m\u001b[0;34m[\u001b[0m\u001b[0;34m'a'\u001b[0m\u001b[0;34m,\u001b[0m\u001b[0;34m'2'\u001b[0m\u001b[0;34m,\u001b[0m\u001b[0;34m'3'\u001b[0m\u001b[0;34m]\u001b[0m\u001b[0;34m,\u001b[0m\u001b[0mdtype\u001b[0m\u001b[0;34m=\u001b[0m\u001b[0;34m'i'\u001b[0m\u001b[0;34m)\u001b[0m\u001b[0;34m\u001b[0m\u001b[0;34m\u001b[0m\u001b[0m\n\u001b[0m\u001b[1;32m      3\u001b[0m \u001b[0;31m# A non integer string like 'a' can not be converted to integer\u001b[0m\u001b[0;34m\u001b[0m\u001b[0;34m\u001b[0m\u001b[0;34m\u001b[0m\u001b[0m\n",
            "\u001b[0;31mValueError\u001b[0m: invalid literal for int() with base 10: 'a'"
          ]
        }
      ]
    },
    {
      "cell_type": "code",
      "source": [
        "# Converting Data Type on Existing Arrays\n",
        "import numpy as np\n",
        "arr = np.array([1.1,2.2,3.3])\n",
        "# newarr = arr.astype('i')\n",
        "newarr = arr.astype(int)\n",
        "\n",
        "print(newarr)\n",
        "print(newarr.dtype)"
      ],
      "metadata": {
        "colab": {
          "base_uri": "https://localhost:8080/"
        },
        "id": "4IaG8eP-Lc51",
        "outputId": "03bb5658-e157-4f5f-ed1f-77c111d382eb"
      },
      "execution_count": 49,
      "outputs": [
        {
          "output_type": "stream",
          "name": "stdout",
          "text": [
            "[1 2 3]\n",
            "int64\n"
          ]
        }
      ]
    }
  ]
}